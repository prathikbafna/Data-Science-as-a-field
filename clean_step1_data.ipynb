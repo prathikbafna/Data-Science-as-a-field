{
  "nbformat": 4,
  "nbformat_minor": 0,
  "metadata": {
    "colab": {
      "provenance": []
    },
    "kernelspec": {
      "name": "python3",
      "display_name": "Python 3"
    },
    "language_info": {
      "name": "python"
    }
  },
  "cells": [
    {
      "cell_type": "code",
      "execution_count": 2,
      "metadata": {
        "id": "GSx2M0IlPWGG"
      },
      "outputs": [],
      "source": [
        "import pandas as pd"
      ]
    },
    {
      "cell_type": "code",
      "source": [
        "df = pd.read_excel(\"/content/data.xlsx\")"
      ],
      "metadata": {
        "id": "n1BPkBC2Pdme"
      },
      "execution_count": 13,
      "outputs": []
    },
    {
      "cell_type": "code",
      "source": [
        "df.head()"
      ],
      "metadata": {
        "colab": {
          "base_uri": "https://localhost:8080/",
          "height": 377
        },
        "id": "ieTEAtvmPi6H",
        "outputId": "a4372924-6e0b-4139-b759-30746da319eb"
      },
      "execution_count": 14,
      "outputs": [
        {
          "output_type": "execute_result",
          "data": {
            "text/plain": [
              "     patient_id   Age     Sex ECOG PS Smoking PY Smoking Status     Ds Site  \\\n",
              "0  RADCURE-0005  62.6  Female  ECOG 0         50      Ex-smoker  Oropharynx   \n",
              "1  RADCURE-0006  87.3    Male  ECOG 2         25      Ex-smoker      Larynx   \n",
              "2  RADCURE-0007  49.9    Male  ECOG 1         15      Ex-smoker  Oropharynx   \n",
              "3  RADCURE-0009  72.3    Male  ECOG 1         30      Ex-smoker     Unknown   \n",
              "4  RADCURE-0010  59.7  Female  ECOG 0          0     Non-smoker  Oropharynx   \n",
              "\n",
              "           Subsite    T    N  ... Cause of Death Local Date Local Regional  \\\n",
              "0        post wall  T4b  N2c  ...    Other Cause   NaN        NaT      NaN   \n",
              "1          Glottis  T1b   N0  ...    Other Cause   NaN        NaT      NaN   \n",
              "2           Tonsil   T3  N2b  ...            NaN   NaN        NaT      NaN   \n",
              "3              NaN   T0  N2c  ...            NaN   NaN        NaT      NaN   \n",
              "4  Tonsillar Fossa  T4b   N0  ...            NaN   NaN        NaT      NaN   \n",
              "\n",
              "  Date Regional Distant Date Distant            2nd Ca  Date 2nd Ca  \\\n",
              "0           NaT     NaN          NaT               NaN          NaT   \n",
              "1           NaT     NaN          NaT               NaN          NaT   \n",
              "2           NaT     NaN          NaT               NaN          NaT   \n",
              "3           NaT     NaN          NaT  S   (suspecious)   2008-05-27   \n",
              "4           NaT     NaN          NaT               NaN          NaT   \n",
              "\n",
              "  RADCURE-challenge  \n",
              "0                 0  \n",
              "1                 0  \n",
              "2                 0  \n",
              "3                 0  \n",
              "4                 0  \n",
              "\n",
              "[5 rows x 34 columns]"
            ],
            "text/html": [
              "\n",
              "  <div id=\"df-8ce1ea29-fe02-45aa-af4d-59a34cd25eb4\" class=\"colab-df-container\">\n",
              "    <div>\n",
              "<style scoped>\n",
              "    .dataframe tbody tr th:only-of-type {\n",
              "        vertical-align: middle;\n",
              "    }\n",
              "\n",
              "    .dataframe tbody tr th {\n",
              "        vertical-align: top;\n",
              "    }\n",
              "\n",
              "    .dataframe thead th {\n",
              "        text-align: right;\n",
              "    }\n",
              "</style>\n",
              "<table border=\"1\" class=\"dataframe\">\n",
              "  <thead>\n",
              "    <tr style=\"text-align: right;\">\n",
              "      <th></th>\n",
              "      <th>patient_id</th>\n",
              "      <th>Age</th>\n",
              "      <th>Sex</th>\n",
              "      <th>ECOG PS</th>\n",
              "      <th>Smoking PY</th>\n",
              "      <th>Smoking Status</th>\n",
              "      <th>Ds Site</th>\n",
              "      <th>Subsite</th>\n",
              "      <th>T</th>\n",
              "      <th>N</th>\n",
              "      <th>...</th>\n",
              "      <th>Cause of Death</th>\n",
              "      <th>Local</th>\n",
              "      <th>Date Local</th>\n",
              "      <th>Regional</th>\n",
              "      <th>Date Regional</th>\n",
              "      <th>Distant</th>\n",
              "      <th>Date Distant</th>\n",
              "      <th>2nd Ca</th>\n",
              "      <th>Date 2nd Ca</th>\n",
              "      <th>RADCURE-challenge</th>\n",
              "    </tr>\n",
              "  </thead>\n",
              "  <tbody>\n",
              "    <tr>\n",
              "      <th>0</th>\n",
              "      <td>RADCURE-0005</td>\n",
              "      <td>62.6</td>\n",
              "      <td>Female</td>\n",
              "      <td>ECOG 0</td>\n",
              "      <td>50</td>\n",
              "      <td>Ex-smoker</td>\n",
              "      <td>Oropharynx</td>\n",
              "      <td>post wall</td>\n",
              "      <td>T4b</td>\n",
              "      <td>N2c</td>\n",
              "      <td>...</td>\n",
              "      <td>Other Cause</td>\n",
              "      <td>NaN</td>\n",
              "      <td>NaT</td>\n",
              "      <td>NaN</td>\n",
              "      <td>NaT</td>\n",
              "      <td>NaN</td>\n",
              "      <td>NaT</td>\n",
              "      <td>NaN</td>\n",
              "      <td>NaT</td>\n",
              "      <td>0</td>\n",
              "    </tr>\n",
              "    <tr>\n",
              "      <th>1</th>\n",
              "      <td>RADCURE-0006</td>\n",
              "      <td>87.3</td>\n",
              "      <td>Male</td>\n",
              "      <td>ECOG 2</td>\n",
              "      <td>25</td>\n",
              "      <td>Ex-smoker</td>\n",
              "      <td>Larynx</td>\n",
              "      <td>Glottis</td>\n",
              "      <td>T1b</td>\n",
              "      <td>N0</td>\n",
              "      <td>...</td>\n",
              "      <td>Other Cause</td>\n",
              "      <td>NaN</td>\n",
              "      <td>NaT</td>\n",
              "      <td>NaN</td>\n",
              "      <td>NaT</td>\n",
              "      <td>NaN</td>\n",
              "      <td>NaT</td>\n",
              "      <td>NaN</td>\n",
              "      <td>NaT</td>\n",
              "      <td>0</td>\n",
              "    </tr>\n",
              "    <tr>\n",
              "      <th>2</th>\n",
              "      <td>RADCURE-0007</td>\n",
              "      <td>49.9</td>\n",
              "      <td>Male</td>\n",
              "      <td>ECOG 1</td>\n",
              "      <td>15</td>\n",
              "      <td>Ex-smoker</td>\n",
              "      <td>Oropharynx</td>\n",
              "      <td>Tonsil</td>\n",
              "      <td>T3</td>\n",
              "      <td>N2b</td>\n",
              "      <td>...</td>\n",
              "      <td>NaN</td>\n",
              "      <td>NaN</td>\n",
              "      <td>NaT</td>\n",
              "      <td>NaN</td>\n",
              "      <td>NaT</td>\n",
              "      <td>NaN</td>\n",
              "      <td>NaT</td>\n",
              "      <td>NaN</td>\n",
              "      <td>NaT</td>\n",
              "      <td>0</td>\n",
              "    </tr>\n",
              "    <tr>\n",
              "      <th>3</th>\n",
              "      <td>RADCURE-0009</td>\n",
              "      <td>72.3</td>\n",
              "      <td>Male</td>\n",
              "      <td>ECOG 1</td>\n",
              "      <td>30</td>\n",
              "      <td>Ex-smoker</td>\n",
              "      <td>Unknown</td>\n",
              "      <td>NaN</td>\n",
              "      <td>T0</td>\n",
              "      <td>N2c</td>\n",
              "      <td>...</td>\n",
              "      <td>NaN</td>\n",
              "      <td>NaN</td>\n",
              "      <td>NaT</td>\n",
              "      <td>NaN</td>\n",
              "      <td>NaT</td>\n",
              "      <td>NaN</td>\n",
              "      <td>NaT</td>\n",
              "      <td>S   (suspecious)</td>\n",
              "      <td>2008-05-27</td>\n",
              "      <td>0</td>\n",
              "    </tr>\n",
              "    <tr>\n",
              "      <th>4</th>\n",
              "      <td>RADCURE-0010</td>\n",
              "      <td>59.7</td>\n",
              "      <td>Female</td>\n",
              "      <td>ECOG 0</td>\n",
              "      <td>0</td>\n",
              "      <td>Non-smoker</td>\n",
              "      <td>Oropharynx</td>\n",
              "      <td>Tonsillar Fossa</td>\n",
              "      <td>T4b</td>\n",
              "      <td>N0</td>\n",
              "      <td>...</td>\n",
              "      <td>NaN</td>\n",
              "      <td>NaN</td>\n",
              "      <td>NaT</td>\n",
              "      <td>NaN</td>\n",
              "      <td>NaT</td>\n",
              "      <td>NaN</td>\n",
              "      <td>NaT</td>\n",
              "      <td>NaN</td>\n",
              "      <td>NaT</td>\n",
              "      <td>0</td>\n",
              "    </tr>\n",
              "  </tbody>\n",
              "</table>\n",
              "<p>5 rows × 34 columns</p>\n",
              "</div>\n",
              "    <div class=\"colab-df-buttons\">\n",
              "\n",
              "  <div class=\"colab-df-container\">\n",
              "    <button class=\"colab-df-convert\" onclick=\"convertToInteractive('df-8ce1ea29-fe02-45aa-af4d-59a34cd25eb4')\"\n",
              "            title=\"Convert this dataframe to an interactive table.\"\n",
              "            style=\"display:none;\">\n",
              "\n",
              "  <svg xmlns=\"http://www.w3.org/2000/svg\" height=\"24px\" viewBox=\"0 -960 960 960\">\n",
              "    <path d=\"M120-120v-720h720v720H120Zm60-500h600v-160H180v160Zm220 220h160v-160H400v160Zm0 220h160v-160H400v160ZM180-400h160v-160H180v160Zm440 0h160v-160H620v160ZM180-180h160v-160H180v160Zm440 0h160v-160H620v160Z\"/>\n",
              "  </svg>\n",
              "    </button>\n",
              "\n",
              "  <style>\n",
              "    .colab-df-container {\n",
              "      display:flex;\n",
              "      gap: 12px;\n",
              "    }\n",
              "\n",
              "    .colab-df-convert {\n",
              "      background-color: #E8F0FE;\n",
              "      border: none;\n",
              "      border-radius: 50%;\n",
              "      cursor: pointer;\n",
              "      display: none;\n",
              "      fill: #1967D2;\n",
              "      height: 32px;\n",
              "      padding: 0 0 0 0;\n",
              "      width: 32px;\n",
              "    }\n",
              "\n",
              "    .colab-df-convert:hover {\n",
              "      background-color: #E2EBFA;\n",
              "      box-shadow: 0px 1px 2px rgba(60, 64, 67, 0.3), 0px 1px 3px 1px rgba(60, 64, 67, 0.15);\n",
              "      fill: #174EA6;\n",
              "    }\n",
              "\n",
              "    .colab-df-buttons div {\n",
              "      margin-bottom: 4px;\n",
              "    }\n",
              "\n",
              "    [theme=dark] .colab-df-convert {\n",
              "      background-color: #3B4455;\n",
              "      fill: #D2E3FC;\n",
              "    }\n",
              "\n",
              "    [theme=dark] .colab-df-convert:hover {\n",
              "      background-color: #434B5C;\n",
              "      box-shadow: 0px 1px 3px 1px rgba(0, 0, 0, 0.15);\n",
              "      filter: drop-shadow(0px 1px 2px rgba(0, 0, 0, 0.3));\n",
              "      fill: #FFFFFF;\n",
              "    }\n",
              "  </style>\n",
              "\n",
              "    <script>\n",
              "      const buttonEl =\n",
              "        document.querySelector('#df-8ce1ea29-fe02-45aa-af4d-59a34cd25eb4 button.colab-df-convert');\n",
              "      buttonEl.style.display =\n",
              "        google.colab.kernel.accessAllowed ? 'block' : 'none';\n",
              "\n",
              "      async function convertToInteractive(key) {\n",
              "        const element = document.querySelector('#df-8ce1ea29-fe02-45aa-af4d-59a34cd25eb4');\n",
              "        const dataTable =\n",
              "          await google.colab.kernel.invokeFunction('convertToInteractive',\n",
              "                                                    [key], {});\n",
              "        if (!dataTable) return;\n",
              "\n",
              "        const docLinkHtml = 'Like what you see? Visit the ' +\n",
              "          '<a target=\"_blank\" href=https://colab.research.google.com/notebooks/data_table.ipynb>data table notebook</a>'\n",
              "          + ' to learn more about interactive tables.';\n",
              "        element.innerHTML = '';\n",
              "        dataTable['output_type'] = 'display_data';\n",
              "        await google.colab.output.renderOutput(dataTable, element);\n",
              "        const docLink = document.createElement('div');\n",
              "        docLink.innerHTML = docLinkHtml;\n",
              "        element.appendChild(docLink);\n",
              "      }\n",
              "    </script>\n",
              "  </div>\n",
              "\n",
              "\n",
              "<div id=\"df-896c0f78-533e-45b2-b1e6-cfd0a92e6a96\">\n",
              "  <button class=\"colab-df-quickchart\" onclick=\"quickchart('df-896c0f78-533e-45b2-b1e6-cfd0a92e6a96')\"\n",
              "            title=\"Suggest charts.\"\n",
              "            style=\"display:none;\">\n",
              "\n",
              "<svg xmlns=\"http://www.w3.org/2000/svg\" height=\"24px\"viewBox=\"0 0 24 24\"\n",
              "     width=\"24px\">\n",
              "    <g>\n",
              "        <path d=\"M19 3H5c-1.1 0-2 .9-2 2v14c0 1.1.9 2 2 2h14c1.1 0 2-.9 2-2V5c0-1.1-.9-2-2-2zM9 17H7v-7h2v7zm4 0h-2V7h2v10zm4 0h-2v-4h2v4z\"/>\n",
              "    </g>\n",
              "</svg>\n",
              "  </button>\n",
              "\n",
              "<style>\n",
              "  .colab-df-quickchart {\n",
              "      --bg-color: #E8F0FE;\n",
              "      --fill-color: #1967D2;\n",
              "      --hover-bg-color: #E2EBFA;\n",
              "      --hover-fill-color: #174EA6;\n",
              "      --disabled-fill-color: #AAA;\n",
              "      --disabled-bg-color: #DDD;\n",
              "  }\n",
              "\n",
              "  [theme=dark] .colab-df-quickchart {\n",
              "      --bg-color: #3B4455;\n",
              "      --fill-color: #D2E3FC;\n",
              "      --hover-bg-color: #434B5C;\n",
              "      --hover-fill-color: #FFFFFF;\n",
              "      --disabled-bg-color: #3B4455;\n",
              "      --disabled-fill-color: #666;\n",
              "  }\n",
              "\n",
              "  .colab-df-quickchart {\n",
              "    background-color: var(--bg-color);\n",
              "    border: none;\n",
              "    border-radius: 50%;\n",
              "    cursor: pointer;\n",
              "    display: none;\n",
              "    fill: var(--fill-color);\n",
              "    height: 32px;\n",
              "    padding: 0;\n",
              "    width: 32px;\n",
              "  }\n",
              "\n",
              "  .colab-df-quickchart:hover {\n",
              "    background-color: var(--hover-bg-color);\n",
              "    box-shadow: 0 1px 2px rgba(60, 64, 67, 0.3), 0 1px 3px 1px rgba(60, 64, 67, 0.15);\n",
              "    fill: var(--button-hover-fill-color);\n",
              "  }\n",
              "\n",
              "  .colab-df-quickchart-complete:disabled,\n",
              "  .colab-df-quickchart-complete:disabled:hover {\n",
              "    background-color: var(--disabled-bg-color);\n",
              "    fill: var(--disabled-fill-color);\n",
              "    box-shadow: none;\n",
              "  }\n",
              "\n",
              "  .colab-df-spinner {\n",
              "    border: 2px solid var(--fill-color);\n",
              "    border-color: transparent;\n",
              "    border-bottom-color: var(--fill-color);\n",
              "    animation:\n",
              "      spin 1s steps(1) infinite;\n",
              "  }\n",
              "\n",
              "  @keyframes spin {\n",
              "    0% {\n",
              "      border-color: transparent;\n",
              "      border-bottom-color: var(--fill-color);\n",
              "      border-left-color: var(--fill-color);\n",
              "    }\n",
              "    20% {\n",
              "      border-color: transparent;\n",
              "      border-left-color: var(--fill-color);\n",
              "      border-top-color: var(--fill-color);\n",
              "    }\n",
              "    30% {\n",
              "      border-color: transparent;\n",
              "      border-left-color: var(--fill-color);\n",
              "      border-top-color: var(--fill-color);\n",
              "      border-right-color: var(--fill-color);\n",
              "    }\n",
              "    40% {\n",
              "      border-color: transparent;\n",
              "      border-right-color: var(--fill-color);\n",
              "      border-top-color: var(--fill-color);\n",
              "    }\n",
              "    60% {\n",
              "      border-color: transparent;\n",
              "      border-right-color: var(--fill-color);\n",
              "    }\n",
              "    80% {\n",
              "      border-color: transparent;\n",
              "      border-right-color: var(--fill-color);\n",
              "      border-bottom-color: var(--fill-color);\n",
              "    }\n",
              "    90% {\n",
              "      border-color: transparent;\n",
              "      border-bottom-color: var(--fill-color);\n",
              "    }\n",
              "  }\n",
              "</style>\n",
              "\n",
              "  <script>\n",
              "    async function quickchart(key) {\n",
              "      const quickchartButtonEl =\n",
              "        document.querySelector('#' + key + ' button');\n",
              "      quickchartButtonEl.disabled = true;  // To prevent multiple clicks.\n",
              "      quickchartButtonEl.classList.add('colab-df-spinner');\n",
              "      try {\n",
              "        const charts = await google.colab.kernel.invokeFunction(\n",
              "            'suggestCharts', [key], {});\n",
              "      } catch (error) {\n",
              "        console.error('Error during call to suggestCharts:', error);\n",
              "      }\n",
              "      quickchartButtonEl.classList.remove('colab-df-spinner');\n",
              "      quickchartButtonEl.classList.add('colab-df-quickchart-complete');\n",
              "    }\n",
              "    (() => {\n",
              "      let quickchartButtonEl =\n",
              "        document.querySelector('#df-896c0f78-533e-45b2-b1e6-cfd0a92e6a96 button');\n",
              "      quickchartButtonEl.style.display =\n",
              "        google.colab.kernel.accessAllowed ? 'block' : 'none';\n",
              "    })();\n",
              "  </script>\n",
              "</div>\n",
              "    </div>\n",
              "  </div>\n"
            ]
          },
          "metadata": {},
          "execution_count": 14
        }
      ]
    },
    {
      "cell_type": "code",
      "source": [
        "df.columns"
      ],
      "metadata": {
        "colab": {
          "base_uri": "https://localhost:8080/"
        },
        "id": "SdFm4ZAlPk0X",
        "outputId": "ee6326f4-616e-4927-9fd6-697d058064df"
      },
      "execution_count": 15,
      "outputs": [
        {
          "output_type": "execute_result",
          "data": {
            "text/plain": [
              "Index(['patient_id', 'Age', 'Sex', 'ECOG PS', 'Smoking PY', 'Smoking Status',\n",
              "       'Ds Site', 'Subsite', 'T', 'N', 'M ', 'Stage', 'Path', 'HPV',\n",
              "       'Tx Modality', 'Chemo? ', 'RT Start', 'Dose', 'Fx', 'RT Tech',\n",
              "       'Last FU', 'Status', 'Length FU', 'Date of Death', 'Cause of Death',\n",
              "       'Local', 'Date Local', 'Regional', 'Date Regional', 'Distant',\n",
              "       'Date Distant', '2nd Ca', 'Date 2nd Ca', 'RADCURE-challenge'],\n",
              "      dtype='object')"
            ]
          },
          "metadata": {},
          "execution_count": 15
        }
      ]
    },
    {
      "cell_type": "code",
      "source": [
        "#shape of the dataset\n",
        "print(df.shape)\n",
        "\n",
        "#total null values\n",
        "print(df.isnull().sum().sum())"
      ],
      "metadata": {
        "colab": {
          "base_uri": "https://localhost:8080/"
        },
        "id": "phfbBcDjPsrx",
        "outputId": "634380d2-5147-46a6-9a3b-ded92025c4d6"
      },
      "execution_count": 16,
      "outputs": [
        {
          "output_type": "stream",
          "name": "stdout",
          "text": [
            "(3346, 34)\n",
            "30581\n"
          ]
        }
      ]
    },
    {
      "cell_type": "code",
      "source": [
        "# column wise null values\n",
        "df.isnull().sum()"
      ],
      "metadata": {
        "colab": {
          "base_uri": "https://localhost:8080/"
        },
        "id": "_sOq-eVpP3Rg",
        "outputId": "d4cdbd65-3408-44ee-c9e7-105ffebf3905"
      },
      "execution_count": 17,
      "outputs": [
        {
          "output_type": "execute_result",
          "data": {
            "text/plain": [
              "patient_id              0\n",
              "Age                     0\n",
              "Sex                     0\n",
              "ECOG PS                 1\n",
              "Smoking PY              5\n",
              "Smoking Status          0\n",
              "Ds Site                 0\n",
              "Subsite               374\n",
              "T                      12\n",
              "N                      13\n",
              "M                      14\n",
              "Stage                  27\n",
              "Path                    0\n",
              "HPV                  1629\n",
              "Tx Modality             0\n",
              "Chemo?                  0\n",
              "RT Start                0\n",
              "Dose                    0\n",
              "Fx                      0\n",
              "RT Tech                 0\n",
              "Last FU                 0\n",
              "Status                  0\n",
              "Length FU               0\n",
              "Date of Death        2288\n",
              "Cause of Death       2294\n",
              "Local                2966\n",
              "Date Local           2966\n",
              "Regional             3157\n",
              "Date Regional        3157\n",
              "Distant              2933\n",
              "Date Distant         2933\n",
              "2nd Ca               2905\n",
              "Date 2nd Ca          2907\n",
              "RADCURE-challenge       0\n",
              "dtype: int64"
            ]
          },
          "metadata": {},
          "execution_count": 17
        }
      ]
    },
    {
      "cell_type": "code",
      "source": [
        "df['Smoking Status'].value_counts()"
      ],
      "metadata": {
        "colab": {
          "base_uri": "https://localhost:8080/"
        },
        "id": "ysMq130iP7PV",
        "outputId": "ab0fd746-bad7-414c-b49d-c5db4aef4638"
      },
      "execution_count": 18,
      "outputs": [
        {
          "output_type": "execute_result",
          "data": {
            "text/plain": [
              "Ex-smoker      1290\n",
              "Current        1139\n",
              "Non-smoker      871\n",
              "unknown          45\n",
              "non-drinker       1\n",
              "Name: Smoking Status, dtype: int64"
            ]
          },
          "metadata": {},
          "execution_count": 18
        }
      ]
    },
    {
      "cell_type": "code",
      "source": [
        "# we have only one non drinker and that to in Smoking status, hence dropping it\n",
        "df = df[df['Smoking Status'] != 'non-drinker']"
      ],
      "metadata": {
        "id": "Bbr6id76P_lK"
      },
      "execution_count": 19,
      "outputs": []
    },
    {
      "cell_type": "code",
      "source": [
        "df['Smoking Status'].value_counts()"
      ],
      "metadata": {
        "colab": {
          "base_uri": "https://localhost:8080/"
        },
        "id": "6Qs-zJhXTkQr",
        "outputId": "7ca0a75e-dd7d-467b-966b-dafc53fecfdb"
      },
      "execution_count": 10,
      "outputs": [
        {
          "output_type": "execute_result",
          "data": {
            "text/plain": [
              "Ex-smoker     1290\n",
              "Current       1139\n",
              "Non-smoker     871\n",
              "unknown         45\n",
              "Name: Smoking Status, dtype: int64"
            ]
          },
          "metadata": {},
          "execution_count": 10
        }
      ]
    },
    {
      "cell_type": "code",
      "source": [
        "# Replace NA values in HPV column with Not tested\n",
        "df['HPV'].fillna('No', inplace=True)"
      ],
      "metadata": {
        "id": "stL5jSZeTmVT"
      },
      "execution_count": 20,
      "outputs": []
    },
    {
      "cell_type": "code",
      "source": [
        "df.isnull().sum()"
      ],
      "metadata": {
        "id": "LmjlmJZ8s1xy"
      },
      "execution_count": null,
      "outputs": []
    },
    {
      "cell_type": "code",
      "source": [
        "df['M '].value_counts()"
      ],
      "metadata": {
        "colab": {
          "base_uri": "https://localhost:8080/"
        },
        "id": "no7BdFqetILx",
        "outputId": "93d00485-3ec2-469f-fe4a-bed4424328db"
      },
      "execution_count": 23,
      "outputs": [
        {
          "output_type": "execute_result",
          "data": {
            "text/plain": [
              "M0    3327\n",
              "MX       2\n",
              "M1       2\n",
              "Name: M , dtype: int64"
            ]
          },
          "metadata": {},
          "execution_count": 23
        }
      ]
    },
    {
      "cell_type": "markdown",
      "source": [
        "We can see that we have 99.8 % of the data is about M0 (Benign Tumor) we can drop the 4 rows which has MX and M1 and remove the entire column and add in the data description that everybody has M0(Benign Tumor)."
      ],
      "metadata": {
        "id": "awRdSCnHuaON"
      }
    },
    {
      "cell_type": "code",
      "source": [
        "df.drop('M ', axis=1, inplace=True)"
      ],
      "metadata": {
        "id": "p44c4PEluSxW"
      },
      "execution_count": 24,
      "outputs": []
    },
    {
      "cell_type": "code",
      "source": [
        "df.shape"
      ],
      "metadata": {
        "colab": {
          "base_uri": "https://localhost:8080/"
        },
        "id": "dcZFRNWivutX",
        "outputId": "5bbdafdd-a7aa-40fa-f902-cc73ce5b8921"
      },
      "execution_count": 25,
      "outputs": [
        {
          "output_type": "execute_result",
          "data": {
            "text/plain": [
              "(3345, 33)"
            ]
          },
          "metadata": {},
          "execution_count": 25
        }
      ]
    },
    {
      "cell_type": "code",
      "source": [
        "# imbalanced categories might lead to biased predictions.\n",
        "df['T'].value_counts()"
      ],
      "metadata": {
        "id": "iYKQKtCGv2Vg"
      },
      "execution_count": null,
      "outputs": []
    },
    {
      "cell_type": "markdown",
      "source": [
        "**TODO**\n",
        "Rename Path as Diagnosis type."
      ],
      "metadata": {
        "id": "dzugqsJO0Ks3"
      }
    },
    {
      "cell_type": "code",
      "source": [
        "#Replace column name T to Tumor_size.\n",
        "df = df.rename(columns={'T': 'tumor_size',\"Smoking PY\":\"annual_packs_smoked\",\n",
        "                        \"Path\":\"diagnosis_type\",\"Ds Site\":\"cancer_site\",\n",
        "                        \"Subsite\":\"cancer_subsite\",\"Metastasis Status\":\"metastasis_status\",\n",
        "                        \"Tx Modality\":\"treatment_type\",\"RT Tech\":\"radio_therapy_type\"})"
      ],
      "metadata": {
        "id": "BQpgxK5pwYdC"
      },
      "execution_count": 76,
      "outputs": []
    },
    {
      "cell_type": "code",
      "source": [
        "# Currently the number of packs smoked is na for people with smoking status unknown\n",
        "#Replacing them with 0.There are 5 such values\n",
        "df['annual_packs_smoked'].fillna(0, inplace=True)"
      ],
      "metadata": {
        "id": "jdgqVV5t5GPX"
      },
      "execution_count": 69,
      "outputs": []
    },
    {
      "cell_type": "code",
      "source": [
        "df['metastasis_status'].value_counts()"
      ],
      "metadata": {
        "colab": {
          "base_uri": "https://localhost:8080/"
        },
        "id": "C2Wsk_1i5zbD",
        "outputId": "45643085-9c68-49f5-e674-da7afcf42ce9"
      },
      "execution_count": 70,
      "outputs": [
        {
          "output_type": "execute_result",
          "data": {
            "text/plain": [
              "N0     1146\n",
              "N2b     791\n",
              "N2c     532\n",
              "N1      344\n",
              "N2      182\n",
              "N3      170\n",
              "N2a     125\n",
              "N3b      28\n",
              "N3a      13\n",
              "NX        1\n",
              "Name: metastasis_status, dtype: int64"
            ]
          },
          "metadata": {},
          "execution_count": 70
        }
      ]
    },
    {
      "cell_type": "code",
      "source": [
        "df['cancer_subsite'].fillna('Unknown', inplace=True)"
      ],
      "metadata": {
        "id": "dk-4uU339JCl"
      },
      "execution_count": 71,
      "outputs": []
    },
    {
      "cell_type": "code",
      "source": [
        "# The cancer site is Unknown for 374 values and null in cancer_subsite, hence made the cancer subsite also as unknwon.\n",
        "df['cancer_subsite'].isnull().sum()"
      ],
      "metadata": {
        "colab": {
          "base_uri": "https://localhost:8080/"
        },
        "id": "PrDhZ8NX-tX5",
        "outputId": "581b9147-52ee-4acb-f634-cbf9747bf33c"
      },
      "execution_count": 72,
      "outputs": [
        {
          "output_type": "execute_result",
          "data": {
            "text/plain": [
              "0"
            ]
          },
          "metadata": {},
          "execution_count": 72
        }
      ]
    },
    {
      "cell_type": "code",
      "source": [
        "df.columns"
      ],
      "metadata": {
        "colab": {
          "base_uri": "https://localhost:8080/"
        },
        "id": "ssTraIh8Aiox",
        "outputId": "4a4ad8e0-6711-481a-98b9-f00cec1028af"
      },
      "execution_count": 73,
      "outputs": [
        {
          "output_type": "execute_result",
          "data": {
            "text/plain": [
              "Index(['patient_id', 'Age', 'Sex', 'ECOG PS', 'annual_packs_smoked',\n",
              "       'Smoking Status', 'cancer_site', 'cancer_subsite', 'tumor_size',\n",
              "       'metastasis_status', 'Stage', 'diagnosis_type', 'HPV', 'treatment_type',\n",
              "       'Chemo? ', 'RT Start', 'Dose', 'Fx', 'RT Tech', 'Last FU', 'Status',\n",
              "       'Length FU', 'Date of Death', 'Cause of Death', 'Local', 'Date Local',\n",
              "       'Regional', 'Date Regional', 'Distant', 'Date Distant', '2nd Ca',\n",
              "       'Date 2nd Ca', 'RADCURE-challenge'],\n",
              "      dtype='object')"
            ]
          },
          "metadata": {},
          "execution_count": 73
        }
      ]
    },
    {
      "cell_type": "markdown",
      "source": [
        "# can i put them into the standard category as mention in the website.\n",
        "\n",
        "https://link.springer.com/article/10.1245/s10434-010-1362-z#:~:text=N%20categories%20(Table%202)%20have,or%20more%20positive%20lymph%20nodes.&text=Positive%20peritoneal%20cytology%20is%20classified,1).\n",
        "\n",
        "NX Regional lymph node(s) cannot be assessed\n",
        "\n",
        "N0 No regional lymph node metastasis\n",
        "\n",
        "N1 Metastasis in 1 to 2 regional lymph nodes\n",
        "\n",
        "N2 Metastasis in 3 to 6 regional lymph nodes\n",
        "\n",
        "N3 Metastasis in 7 or more regional lymph nodes"
      ],
      "metadata": {
        "id": "Eh7CZigfCKHP"
      }
    },
    {
      "cell_type": "markdown",
      "source": [
        "We can drop the column \"chemo?\" as this data can be derived by the treatment_type columns."
      ],
      "metadata": {
        "id": "x29zWLETED97"
      }
    },
    {
      "cell_type": "code",
      "source": [
        "df.drop('Chemo? ', axis=1, inplace=True)"
      ],
      "metadata": {
        "id": "0UEhXK1KBiwO"
      },
      "execution_count": 75,
      "outputs": []
    },
    {
      "cell_type": "code",
      "source": [
        "df.drop('RADCURE-challenge', axis=1, inplace=True)"
      ],
      "metadata": {
        "id": "-fnLLSZ6F3nv"
      },
      "execution_count": 77,
      "outputs": []
    },
    {
      "cell_type": "code",
      "source": [
        "# we can drop the status column as ,we can get the information from the Date of death table , if dead we have date else alive"
      ],
      "metadata": {
        "id": "CFTHEFSMGmeO"
      },
      "execution_count": 78,
      "outputs": []
    },
    {
      "cell_type": "code",
      "source": [
        "#shape of the dataset\n",
        "print(df.shape)\n",
        "\n",
        "#total null values\n",
        "print(df.isnull().sum())"
      ],
      "metadata": {
        "colab": {
          "base_uri": "https://localhost:8080/"
        },
        "id": "zOhzTnHnH4Qv",
        "outputId": "30323b04-3052-41d5-c453-2a4e4a161b52"
      },
      "execution_count": 81,
      "outputs": [
        {
          "output_type": "stream",
          "name": "stdout",
          "text": [
            "(3345, 31)\n",
            "patient_id                0\n",
            "Age                       0\n",
            "Sex                       0\n",
            "ECOG PS                   1\n",
            "annual_packs_smoked       0\n",
            "Smoking Status            0\n",
            "cancer_site               0\n",
            "cancer_subsite            0\n",
            "tumor_size               12\n",
            "metastasis_status        13\n",
            "Stage                    27\n",
            "diagnosis_type            0\n",
            "HPV                       0\n",
            "treatment_type            0\n",
            "RT Start                  0\n",
            "Dose                      0\n",
            "Fx                        0\n",
            "radio_therapy_type        0\n",
            "Last FU                   0\n",
            "Status                    0\n",
            "Length FU                 0\n",
            "Date of Death          2287\n",
            "Cause of Death         2293\n",
            "Local                  2966\n",
            "Date Local             2966\n",
            "Regional               3156\n",
            "Date Regional          3156\n",
            "Distant                2932\n",
            "Date Distant           2932\n",
            "2nd Ca                 2904\n",
            "Date 2nd Ca            2906\n",
            "dtype: int64\n"
          ]
        }
      ]
    },
    {
      "cell_type": "code",
      "source": [
        "file_path = 'clean_step1_data.xlsx'\n",
        "\n",
        "df.to_excel(file_path, index=False)"
      ],
      "metadata": {
        "id": "5zayuMOHIMvs"
      },
      "execution_count": 82,
      "outputs": []
    },
    {
      "cell_type": "code",
      "source": [],
      "metadata": {
        "id": "Og9zis4KJQ9w"
      },
      "execution_count": null,
      "outputs": []
    }
  ]
}