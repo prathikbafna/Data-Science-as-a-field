{
  "nbformat": 4,
  "nbformat_minor": 0,
  "metadata": {
    "colab": {
      "provenance": []
    },
    "kernelspec": {
      "name": "python3",
      "display_name": "Python 3"
    },
    "language_info": {
      "name": "python"
    }
  },
  "cells": [
    {
      "cell_type": "code",
      "execution_count": 1,
      "metadata": {
        "id": "TNWJw9Z0FPQ1"
      },
      "outputs": [],
      "source": [
        "import pandas as pd"
      ]
    },
    {
      "cell_type": "code",
      "source": [
        "#Loading the data set\n",
        "df = pd.read_excel(\"/content/data.xlsx\")\n",
        "df.head()"
      ],
      "metadata": {
        "colab": {
          "base_uri": "https://localhost:8080/",
          "height": 377
        },
        "id": "3zOmTx-TFeod",
        "outputId": "72313f39-6183-4809-bdb7-1f4743f5ce02"
      },
      "execution_count": 3,
      "outputs": [
        {
          "output_type": "execute_result",
          "data": {
            "text/plain": [
              "     patient_id   Age     Sex ECOG PS Smoking PY Smoking Status     Ds Site  \\\n",
              "0  RADCURE-0005  62.6  Female  ECOG 0         50      Ex-smoker  Oropharynx   \n",
              "1  RADCURE-0006  87.3    Male  ECOG 2         25      Ex-smoker      Larynx   \n",
              "2  RADCURE-0007  49.9    Male  ECOG 1         15      Ex-smoker  Oropharynx   \n",
              "3  RADCURE-0009  72.3    Male  ECOG 1         30      Ex-smoker     Unknown   \n",
              "4  RADCURE-0010  59.7  Female  ECOG 0          0     Non-smoker  Oropharynx   \n",
              "\n",
              "           Subsite    T    N  ... Cause of Death Local Date Local Regional  \\\n",
              "0        post wall  T4b  N2c  ...    Other Cause   NaN        NaT      NaN   \n",
              "1          Glottis  T1b   N0  ...    Other Cause   NaN        NaT      NaN   \n",
              "2           Tonsil   T3  N2b  ...            NaN   NaN        NaT      NaN   \n",
              "3              NaN   T0  N2c  ...            NaN   NaN        NaT      NaN   \n",
              "4  Tonsillar Fossa  T4b   N0  ...            NaN   NaN        NaT      NaN   \n",
              "\n",
              "  Date Regional Distant Date Distant            2nd Ca  Date 2nd Ca  \\\n",
              "0           NaT     NaN          NaT               NaN          NaT   \n",
              "1           NaT     NaN          NaT               NaN          NaT   \n",
              "2           NaT     NaN          NaT               NaN          NaT   \n",
              "3           NaT     NaN          NaT  S   (suspecious)   2008-05-27   \n",
              "4           NaT     NaN          NaT               NaN          NaT   \n",
              "\n",
              "  RADCURE-challenge  \n",
              "0                 0  \n",
              "1                 0  \n",
              "2                 0  \n",
              "3                 0  \n",
              "4                 0  \n",
              "\n",
              "[5 rows x 34 columns]"
            ],
            "text/html": [
              "\n",
              "  <div id=\"df-78cfce18-2981-4e8b-8934-13ce01dc6e4b\" class=\"colab-df-container\">\n",
              "    <div>\n",
              "<style scoped>\n",
              "    .dataframe tbody tr th:only-of-type {\n",
              "        vertical-align: middle;\n",
              "    }\n",
              "\n",
              "    .dataframe tbody tr th {\n",
              "        vertical-align: top;\n",
              "    }\n",
              "\n",
              "    .dataframe thead th {\n",
              "        text-align: right;\n",
              "    }\n",
              "</style>\n",
              "<table border=\"1\" class=\"dataframe\">\n",
              "  <thead>\n",
              "    <tr style=\"text-align: right;\">\n",
              "      <th></th>\n",
              "      <th>patient_id</th>\n",
              "      <th>Age</th>\n",
              "      <th>Sex</th>\n",
              "      <th>ECOG PS</th>\n",
              "      <th>Smoking PY</th>\n",
              "      <th>Smoking Status</th>\n",
              "      <th>Ds Site</th>\n",
              "      <th>Subsite</th>\n",
              "      <th>T</th>\n",
              "      <th>N</th>\n",
              "      <th>...</th>\n",
              "      <th>Cause of Death</th>\n",
              "      <th>Local</th>\n",
              "      <th>Date Local</th>\n",
              "      <th>Regional</th>\n",
              "      <th>Date Regional</th>\n",
              "      <th>Distant</th>\n",
              "      <th>Date Distant</th>\n",
              "      <th>2nd Ca</th>\n",
              "      <th>Date 2nd Ca</th>\n",
              "      <th>RADCURE-challenge</th>\n",
              "    </tr>\n",
              "  </thead>\n",
              "  <tbody>\n",
              "    <tr>\n",
              "      <th>0</th>\n",
              "      <td>RADCURE-0005</td>\n",
              "      <td>62.6</td>\n",
              "      <td>Female</td>\n",
              "      <td>ECOG 0</td>\n",
              "      <td>50</td>\n",
              "      <td>Ex-smoker</td>\n",
              "      <td>Oropharynx</td>\n",
              "      <td>post wall</td>\n",
              "      <td>T4b</td>\n",
              "      <td>N2c</td>\n",
              "      <td>...</td>\n",
              "      <td>Other Cause</td>\n",
              "      <td>NaN</td>\n",
              "      <td>NaT</td>\n",
              "      <td>NaN</td>\n",
              "      <td>NaT</td>\n",
              "      <td>NaN</td>\n",
              "      <td>NaT</td>\n",
              "      <td>NaN</td>\n",
              "      <td>NaT</td>\n",
              "      <td>0</td>\n",
              "    </tr>\n",
              "    <tr>\n",
              "      <th>1</th>\n",
              "      <td>RADCURE-0006</td>\n",
              "      <td>87.3</td>\n",
              "      <td>Male</td>\n",
              "      <td>ECOG 2</td>\n",
              "      <td>25</td>\n",
              "      <td>Ex-smoker</td>\n",
              "      <td>Larynx</td>\n",
              "      <td>Glottis</td>\n",
              "      <td>T1b</td>\n",
              "      <td>N0</td>\n",
              "      <td>...</td>\n",
              "      <td>Other Cause</td>\n",
              "      <td>NaN</td>\n",
              "      <td>NaT</td>\n",
              "      <td>NaN</td>\n",
              "      <td>NaT</td>\n",
              "      <td>NaN</td>\n",
              "      <td>NaT</td>\n",
              "      <td>NaN</td>\n",
              "      <td>NaT</td>\n",
              "      <td>0</td>\n",
              "    </tr>\n",
              "    <tr>\n",
              "      <th>2</th>\n",
              "      <td>RADCURE-0007</td>\n",
              "      <td>49.9</td>\n",
              "      <td>Male</td>\n",
              "      <td>ECOG 1</td>\n",
              "      <td>15</td>\n",
              "      <td>Ex-smoker</td>\n",
              "      <td>Oropharynx</td>\n",
              "      <td>Tonsil</td>\n",
              "      <td>T3</td>\n",
              "      <td>N2b</td>\n",
              "      <td>...</td>\n",
              "      <td>NaN</td>\n",
              "      <td>NaN</td>\n",
              "      <td>NaT</td>\n",
              "      <td>NaN</td>\n",
              "      <td>NaT</td>\n",
              "      <td>NaN</td>\n",
              "      <td>NaT</td>\n",
              "      <td>NaN</td>\n",
              "      <td>NaT</td>\n",
              "      <td>0</td>\n",
              "    </tr>\n",
              "    <tr>\n",
              "      <th>3</th>\n",
              "      <td>RADCURE-0009</td>\n",
              "      <td>72.3</td>\n",
              "      <td>Male</td>\n",
              "      <td>ECOG 1</td>\n",
              "      <td>30</td>\n",
              "      <td>Ex-smoker</td>\n",
              "      <td>Unknown</td>\n",
              "      <td>NaN</td>\n",
              "      <td>T0</td>\n",
              "      <td>N2c</td>\n",
              "      <td>...</td>\n",
              "      <td>NaN</td>\n",
              "      <td>NaN</td>\n",
              "      <td>NaT</td>\n",
              "      <td>NaN</td>\n",
              "      <td>NaT</td>\n",
              "      <td>NaN</td>\n",
              "      <td>NaT</td>\n",
              "      <td>S   (suspecious)</td>\n",
              "      <td>2008-05-27</td>\n",
              "      <td>0</td>\n",
              "    </tr>\n",
              "    <tr>\n",
              "      <th>4</th>\n",
              "      <td>RADCURE-0010</td>\n",
              "      <td>59.7</td>\n",
              "      <td>Female</td>\n",
              "      <td>ECOG 0</td>\n",
              "      <td>0</td>\n",
              "      <td>Non-smoker</td>\n",
              "      <td>Oropharynx</td>\n",
              "      <td>Tonsillar Fossa</td>\n",
              "      <td>T4b</td>\n",
              "      <td>N0</td>\n",
              "      <td>...</td>\n",
              "      <td>NaN</td>\n",
              "      <td>NaN</td>\n",
              "      <td>NaT</td>\n",
              "      <td>NaN</td>\n",
              "      <td>NaT</td>\n",
              "      <td>NaN</td>\n",
              "      <td>NaT</td>\n",
              "      <td>NaN</td>\n",
              "      <td>NaT</td>\n",
              "      <td>0</td>\n",
              "    </tr>\n",
              "  </tbody>\n",
              "</table>\n",
              "<p>5 rows × 34 columns</p>\n",
              "</div>\n",
              "    <div class=\"colab-df-buttons\">\n",
              "\n",
              "  <div class=\"colab-df-container\">\n",
              "    <button class=\"colab-df-convert\" onclick=\"convertToInteractive('df-78cfce18-2981-4e8b-8934-13ce01dc6e4b')\"\n",
              "            title=\"Convert this dataframe to an interactive table.\"\n",
              "            style=\"display:none;\">\n",
              "\n",
              "  <svg xmlns=\"http://www.w3.org/2000/svg\" height=\"24px\" viewBox=\"0 -960 960 960\">\n",
              "    <path d=\"M120-120v-720h720v720H120Zm60-500h600v-160H180v160Zm220 220h160v-160H400v160Zm0 220h160v-160H400v160ZM180-400h160v-160H180v160Zm440 0h160v-160H620v160ZM180-180h160v-160H180v160Zm440 0h160v-160H620v160Z\"/>\n",
              "  </svg>\n",
              "    </button>\n",
              "\n",
              "  <style>\n",
              "    .colab-df-container {\n",
              "      display:flex;\n",
              "      gap: 12px;\n",
              "    }\n",
              "\n",
              "    .colab-df-convert {\n",
              "      background-color: #E8F0FE;\n",
              "      border: none;\n",
              "      border-radius: 50%;\n",
              "      cursor: pointer;\n",
              "      display: none;\n",
              "      fill: #1967D2;\n",
              "      height: 32px;\n",
              "      padding: 0 0 0 0;\n",
              "      width: 32px;\n",
              "    }\n",
              "\n",
              "    .colab-df-convert:hover {\n",
              "      background-color: #E2EBFA;\n",
              "      box-shadow: 0px 1px 2px rgba(60, 64, 67, 0.3), 0px 1px 3px 1px rgba(60, 64, 67, 0.15);\n",
              "      fill: #174EA6;\n",
              "    }\n",
              "\n",
              "    .colab-df-buttons div {\n",
              "      margin-bottom: 4px;\n",
              "    }\n",
              "\n",
              "    [theme=dark] .colab-df-convert {\n",
              "      background-color: #3B4455;\n",
              "      fill: #D2E3FC;\n",
              "    }\n",
              "\n",
              "    [theme=dark] .colab-df-convert:hover {\n",
              "      background-color: #434B5C;\n",
              "      box-shadow: 0px 1px 3px 1px rgba(0, 0, 0, 0.15);\n",
              "      filter: drop-shadow(0px 1px 2px rgba(0, 0, 0, 0.3));\n",
              "      fill: #FFFFFF;\n",
              "    }\n",
              "  </style>\n",
              "\n",
              "    <script>\n",
              "      const buttonEl =\n",
              "        document.querySelector('#df-78cfce18-2981-4e8b-8934-13ce01dc6e4b button.colab-df-convert');\n",
              "      buttonEl.style.display =\n",
              "        google.colab.kernel.accessAllowed ? 'block' : 'none';\n",
              "\n",
              "      async function convertToInteractive(key) {\n",
              "        const element = document.querySelector('#df-78cfce18-2981-4e8b-8934-13ce01dc6e4b');\n",
              "        const dataTable =\n",
              "          await google.colab.kernel.invokeFunction('convertToInteractive',\n",
              "                                                    [key], {});\n",
              "        if (!dataTable) return;\n",
              "\n",
              "        const docLinkHtml = 'Like what you see? Visit the ' +\n",
              "          '<a target=\"_blank\" href=https://colab.research.google.com/notebooks/data_table.ipynb>data table notebook</a>'\n",
              "          + ' to learn more about interactive tables.';\n",
              "        element.innerHTML = '';\n",
              "        dataTable['output_type'] = 'display_data';\n",
              "        await google.colab.output.renderOutput(dataTable, element);\n",
              "        const docLink = document.createElement('div');\n",
              "        docLink.innerHTML = docLinkHtml;\n",
              "        element.appendChild(docLink);\n",
              "      }\n",
              "    </script>\n",
              "  </div>\n",
              "\n",
              "\n",
              "<div id=\"df-c54eaaff-e5ab-4841-8ebd-9e717ea44ccf\">\n",
              "  <button class=\"colab-df-quickchart\" onclick=\"quickchart('df-c54eaaff-e5ab-4841-8ebd-9e717ea44ccf')\"\n",
              "            title=\"Suggest charts.\"\n",
              "            style=\"display:none;\">\n",
              "\n",
              "<svg xmlns=\"http://www.w3.org/2000/svg\" height=\"24px\"viewBox=\"0 0 24 24\"\n",
              "     width=\"24px\">\n",
              "    <g>\n",
              "        <path d=\"M19 3H5c-1.1 0-2 .9-2 2v14c0 1.1.9 2 2 2h14c1.1 0 2-.9 2-2V5c0-1.1-.9-2-2-2zM9 17H7v-7h2v7zm4 0h-2V7h2v10zm4 0h-2v-4h2v4z\"/>\n",
              "    </g>\n",
              "</svg>\n",
              "  </button>\n",
              "\n",
              "<style>\n",
              "  .colab-df-quickchart {\n",
              "      --bg-color: #E8F0FE;\n",
              "      --fill-color: #1967D2;\n",
              "      --hover-bg-color: #E2EBFA;\n",
              "      --hover-fill-color: #174EA6;\n",
              "      --disabled-fill-color: #AAA;\n",
              "      --disabled-bg-color: #DDD;\n",
              "  }\n",
              "\n",
              "  [theme=dark] .colab-df-quickchart {\n",
              "      --bg-color: #3B4455;\n",
              "      --fill-color: #D2E3FC;\n",
              "      --hover-bg-color: #434B5C;\n",
              "      --hover-fill-color: #FFFFFF;\n",
              "      --disabled-bg-color: #3B4455;\n",
              "      --disabled-fill-color: #666;\n",
              "  }\n",
              "\n",
              "  .colab-df-quickchart {\n",
              "    background-color: var(--bg-color);\n",
              "    border: none;\n",
              "    border-radius: 50%;\n",
              "    cursor: pointer;\n",
              "    display: none;\n",
              "    fill: var(--fill-color);\n",
              "    height: 32px;\n",
              "    padding: 0;\n",
              "    width: 32px;\n",
              "  }\n",
              "\n",
              "  .colab-df-quickchart:hover {\n",
              "    background-color: var(--hover-bg-color);\n",
              "    box-shadow: 0 1px 2px rgba(60, 64, 67, 0.3), 0 1px 3px 1px rgba(60, 64, 67, 0.15);\n",
              "    fill: var(--button-hover-fill-color);\n",
              "  }\n",
              "\n",
              "  .colab-df-quickchart-complete:disabled,\n",
              "  .colab-df-quickchart-complete:disabled:hover {\n",
              "    background-color: var(--disabled-bg-color);\n",
              "    fill: var(--disabled-fill-color);\n",
              "    box-shadow: none;\n",
              "  }\n",
              "\n",
              "  .colab-df-spinner {\n",
              "    border: 2px solid var(--fill-color);\n",
              "    border-color: transparent;\n",
              "    border-bottom-color: var(--fill-color);\n",
              "    animation:\n",
              "      spin 1s steps(1) infinite;\n",
              "  }\n",
              "\n",
              "  @keyframes spin {\n",
              "    0% {\n",
              "      border-color: transparent;\n",
              "      border-bottom-color: var(--fill-color);\n",
              "      border-left-color: var(--fill-color);\n",
              "    }\n",
              "    20% {\n",
              "      border-color: transparent;\n",
              "      border-left-color: var(--fill-color);\n",
              "      border-top-color: var(--fill-color);\n",
              "    }\n",
              "    30% {\n",
              "      border-color: transparent;\n",
              "      border-left-color: var(--fill-color);\n",
              "      border-top-color: var(--fill-color);\n",
              "      border-right-color: var(--fill-color);\n",
              "    }\n",
              "    40% {\n",
              "      border-color: transparent;\n",
              "      border-right-color: var(--fill-color);\n",
              "      border-top-color: var(--fill-color);\n",
              "    }\n",
              "    60% {\n",
              "      border-color: transparent;\n",
              "      border-right-color: var(--fill-color);\n",
              "    }\n",
              "    80% {\n",
              "      border-color: transparent;\n",
              "      border-right-color: var(--fill-color);\n",
              "      border-bottom-color: var(--fill-color);\n",
              "    }\n",
              "    90% {\n",
              "      border-color: transparent;\n",
              "      border-bottom-color: var(--fill-color);\n",
              "    }\n",
              "  }\n",
              "</style>\n",
              "\n",
              "  <script>\n",
              "    async function quickchart(key) {\n",
              "      const quickchartButtonEl =\n",
              "        document.querySelector('#' + key + ' button');\n",
              "      quickchartButtonEl.disabled = true;  // To prevent multiple clicks.\n",
              "      quickchartButtonEl.classList.add('colab-df-spinner');\n",
              "      try {\n",
              "        const charts = await google.colab.kernel.invokeFunction(\n",
              "            'suggestCharts', [key], {});\n",
              "      } catch (error) {\n",
              "        console.error('Error during call to suggestCharts:', error);\n",
              "      }\n",
              "      quickchartButtonEl.classList.remove('colab-df-spinner');\n",
              "      quickchartButtonEl.classList.add('colab-df-quickchart-complete');\n",
              "    }\n",
              "    (() => {\n",
              "      let quickchartButtonEl =\n",
              "        document.querySelector('#df-c54eaaff-e5ab-4841-8ebd-9e717ea44ccf button');\n",
              "      quickchartButtonEl.style.display =\n",
              "        google.colab.kernel.accessAllowed ? 'block' : 'none';\n",
              "    })();\n",
              "  </script>\n",
              "</div>\n",
              "    </div>\n",
              "  </div>\n"
            ]
          },
          "metadata": {},
          "execution_count": 3
        }
      ]
    },
    {
      "cell_type": "code",
      "source": [
        "df.columns"
      ],
      "metadata": {
        "colab": {
          "base_uri": "https://localhost:8080/"
        },
        "id": "314w99DdFuu_",
        "outputId": "b930dbee-fc6c-4880-fdc6-c3a0d36ceada"
      },
      "execution_count": 4,
      "outputs": [
        {
          "output_type": "execute_result",
          "data": {
            "text/plain": [
              "Index(['patient_id', 'Age', 'Sex', 'ECOG PS', 'Smoking PY', 'Smoking Status',\n",
              "       'Ds Site', 'Subsite', 'T', 'N', 'M ', 'Stage', 'Path', 'HPV',\n",
              "       'Tx Modality', 'Chemo? ', 'RT Start', 'Dose', 'Fx', 'RT Tech',\n",
              "       'Last FU', 'Status', 'Length FU', 'Date of Death', 'Cause of Death',\n",
              "       'Local', 'Date Local', 'Regional', 'Date Regional', 'Distant',\n",
              "       'Date Distant', '2nd Ca', 'Date 2nd Ca', 'RADCURE-challenge'],\n",
              "      dtype='object')"
            ]
          },
          "metadata": {},
          "execution_count": 4
        }
      ]
    },
    {
      "cell_type": "markdown",
      "source": [
        "We can see that all the column names are not meaningful and have spaces in between. Lets name the columns properly."
      ],
      "metadata": {
        "id": "grt0_-X1F8Yl"
      }
    },
    {
      "cell_type": "code",
      "source": [
        "df = df.rename(columns={'T': 'tumor_size',\"Smoking PY\":\"annual_packs_smoked\",\n",
        "                        \"Path\":\"diagnosis_type\",\"Ds Site\":\"cancer_site\",\n",
        "                        \"Subsite\":\"cancer_subsite\",\"Metastasis Status\":\"metastasis_status\",\n",
        "                        \"Tx Modality\":\"treatment_type\",\"RT Tech\":\"radio_therapy_type\",\"RT Start\":\"radio_therapy_startDt\",\n",
        "                        \"Last FU\":\"last_follow_up\",\"Date of Death\":\"date_of_death\",\n",
        "                        \"Cause of Death\":\"cause_of_death\",\"Smoking Status\":\"smoking_status\"})"
      ],
      "metadata": {
        "id": "yc-5RaEBF7aS"
      },
      "execution_count": 8,
      "outputs": []
    },
    {
      "cell_type": "code",
      "source": [
        "#Lets check for the null values in the dataset\n",
        "print(df.shape)\n",
        "print(df.isnull().sum())"
      ],
      "metadata": {
        "colab": {
          "base_uri": "https://localhost:8080/"
        },
        "id": "1MOch-_VGrTb",
        "outputId": "eeae014b-3c02-4f76-e875-9a61d6857ab5"
      },
      "execution_count": 10,
      "outputs": [
        {
          "output_type": "stream",
          "name": "stdout",
          "text": [
            "(3346, 34)\n",
            "patient_id                  0\n",
            "Age                         0\n",
            "Sex                         0\n",
            "ECOG PS                     1\n",
            "annual_packs_smoked         5\n",
            "smoking_status              0\n",
            "cancer_site                 0\n",
            "cancer_subsite            374\n",
            "tumor_size                 12\n",
            "N                          13\n",
            "M                          14\n",
            "Stage                      27\n",
            "diagnosis_type              0\n",
            "HPV                      1629\n",
            "treatment_type              0\n",
            "Chemo?                      0\n",
            "radio_therapy_startDt       0\n",
            "Dose                        0\n",
            "Fx                          0\n",
            "radio_therapy_type          0\n",
            "last_follow_up              0\n",
            "Status                      0\n",
            "Length FU                   0\n",
            "date_of_death            2288\n",
            "cause_of_death           2294\n",
            "Local                    2966\n",
            "Date Local               2966\n",
            "Regional                 3157\n",
            "Date Regional            3157\n",
            "Distant                  2933\n",
            "Date Distant             2933\n",
            "2nd Ca                   2905\n",
            "Date 2nd Ca              2907\n",
            "RADCURE-challenge           0\n",
            "dtype: int64\n"
          ]
        }
      ]
    },
    {
      "cell_type": "code",
      "source": [
        "#Lets fix the null values.\n",
        "df['smoking_status'].value_counts()"
      ],
      "metadata": {
        "colab": {
          "base_uri": "https://localhost:8080/"
        },
        "id": "a4mkUXi0HZXY",
        "outputId": "01ae6970-4981-4e43-d577-1239ccf1c131"
      },
      "execution_count": 12,
      "outputs": [
        {
          "output_type": "execute_result",
          "data": {
            "text/plain": [
              "Ex-smoker      1290\n",
              "Current        1139\n",
              "Non-smoker      871\n",
              "unknown          45\n",
              "non-drinker       1\n",
              "Name: smoking_status, dtype: int64"
            ]
          },
          "metadata": {},
          "execution_count": 12
        }
      ]
    },
    {
      "cell_type": "code",
      "source": [
        "# we can see that there data aout drinking in the smoking status , hence dropping it\n",
        "df = df[df['smoking_status'] != 'non-drinker']"
      ],
      "metadata": {
        "id": "Nu0Xp17KH7NN"
      },
      "execution_count": 15,
      "outputs": []
    },
    {
      "cell_type": "code",
      "source": [
        "# Replace NA values in HPV column with Not tested\n",
        "df['HPV'].fillna('No', inplace=True)"
      ],
      "metadata": {
        "colab": {
          "base_uri": "https://localhost:8080/"
        },
        "id": "ZyDSXETVJ7ps",
        "outputId": "eaa73580-7224-4119-8fad-08d4bf3d7b9d"
      },
      "execution_count": 16,
      "outputs": [
        {
          "output_type": "stream",
          "name": "stderr",
          "text": [
            "<ipython-input-16-e43f7d67a091>:2: SettingWithCopyWarning: \n",
            "A value is trying to be set on a copy of a slice from a DataFrame\n",
            "\n",
            "See the caveats in the documentation: https://pandas.pydata.org/pandas-docs/stable/user_guide/indexing.html#returning-a-view-versus-a-copy\n",
            "  df['HPV'].fillna('No', inplace=True)\n"
          ]
        }
      ]
    },
    {
      "cell_type": "code",
      "source": [
        "df['M '].value_counts()"
      ],
      "metadata": {
        "colab": {
          "base_uri": "https://localhost:8080/"
        },
        "id": "9EBAKrmFJ7nJ",
        "outputId": "3656c036-e983-4f2f-9956-2af1feb6f936"
      },
      "execution_count": 17,
      "outputs": [
        {
          "output_type": "execute_result",
          "data": {
            "text/plain": [
              "M0    3327\n",
              "MX       2\n",
              "M1       2\n",
              "Name: M , dtype: int64"
            ]
          },
          "metadata": {},
          "execution_count": 17
        }
      ]
    },
    {
      "cell_type": "code",
      "source": [
        "#We can see that we have 99.8 % of the data is about M0 (Benign Tumor) we can drop\n",
        "#the 4 rows which has MX and M1 and remove the entire column and add in the data\n",
        "# description that everybody has M0(Benign Tumor).\n",
        "df.drop('M ', axis=1, inplace=True)"
      ],
      "metadata": {
        "colab": {
          "base_uri": "https://localhost:8080/"
        },
        "id": "QQ7mNdipJ7hz",
        "outputId": "a1dfb699-2788-46e1-f402-79bbcd1e607d"
      },
      "execution_count": 18,
      "outputs": [
        {
          "output_type": "stream",
          "name": "stderr",
          "text": [
            "<ipython-input-18-a185b3d492ee>:4: SettingWithCopyWarning: \n",
            "A value is trying to be set on a copy of a slice from a DataFrame\n",
            "\n",
            "See the caveats in the documentation: https://pandas.pydata.org/pandas-docs/stable/user_guide/indexing.html#returning-a-view-versus-a-copy\n",
            "  df.drop('M ', axis=1, inplace=True)\n"
          ]
        }
      ]
    },
    {
      "cell_type": "code",
      "source": [
        "# Currently the number of packs smoked is na for people with smoking status unknown\n",
        "#Replacing them with 0.There are 5 such values\n",
        "df['annual_packs_smoked'].fillna(0, inplace=True)"
      ],
      "metadata": {
        "colab": {
          "base_uri": "https://localhost:8080/"
        },
        "id": "2XiOmMq_J7fQ",
        "outputId": "befba432-d014-400a-9914-f7ee00d98b1a"
      },
      "execution_count": 19,
      "outputs": [
        {
          "output_type": "stream",
          "name": "stderr",
          "text": [
            "<ipython-input-19-4254f08d2c78>:3: SettingWithCopyWarning: \n",
            "A value is trying to be set on a copy of a slice from a DataFrame\n",
            "\n",
            "See the caveats in the documentation: https://pandas.pydata.org/pandas-docs/stable/user_guide/indexing.html#returning-a-view-versus-a-copy\n",
            "  df['annual_packs_smoked'].fillna(0, inplace=True)\n"
          ]
        }
      ]
    },
    {
      "cell_type": "code",
      "source": [
        "df['cancer_subsite'].fillna('Unknown', inplace=True)"
      ],
      "metadata": {
        "colab": {
          "base_uri": "https://localhost:8080/"
        },
        "id": "SdCBgEYkKbfM",
        "outputId": "48ec7925-e1d0-4ca8-a767-8dd413327add"
      },
      "execution_count": 20,
      "outputs": [
        {
          "output_type": "stream",
          "name": "stderr",
          "text": [
            "<ipython-input-20-1853d3703b5f>:1: SettingWithCopyWarning: \n",
            "A value is trying to be set on a copy of a slice from a DataFrame\n",
            "\n",
            "See the caveats in the documentation: https://pandas.pydata.org/pandas-docs/stable/user_guide/indexing.html#returning-a-view-versus-a-copy\n",
            "  df['cancer_subsite'].fillna('Unknown', inplace=True)\n"
          ]
        }
      ]
    },
    {
      "cell_type": "code",
      "source": [
        "# We have 2 columns, \"Dead\"-> which saves the status if they are alive or not and\n",
        "#\"date_of_death\" stores the date when the person died.\n",
        "#Combining these 2 column to reduce the null values as Alive person's date of death\n",
        "# will be null\n",
        "for i in df.index:\n",
        "  if(df[\"Status\"][i] == \"Dead\"):\n",
        "    df[\"Status\"][i] = df[\"date_of_death\"][i]\n"
      ],
      "metadata": {
        "colab": {
          "base_uri": "https://localhost:8080/"
        },
        "id": "KPnAtW4TK2XF",
        "outputId": "885a7b32-496d-45c6-8b0a-3d893ad242ee"
      },
      "execution_count": 21,
      "outputs": [
        {
          "output_type": "stream",
          "name": "stderr",
          "text": [
            "<ipython-input-21-a63f59b06932>:7: SettingWithCopyWarning: \n",
            "A value is trying to be set on a copy of a slice from a DataFrame\n",
            "\n",
            "See the caveats in the documentation: https://pandas.pydata.org/pandas-docs/stable/user_guide/indexing.html#returning-a-view-versus-a-copy\n",
            "  df[\"Status\"][i] = df[\"date_of_death\"][i]\n"
          ]
        }
      ]
    },
    {
      "cell_type": "code",
      "source": [
        "df['cause_of_death'].fillna('Alive', inplace=True)"
      ],
      "metadata": {
        "colab": {
          "base_uri": "https://localhost:8080/"
        },
        "id": "5dBxPvWuNOmG",
        "outputId": "505235b7-4c7b-4c0e-ce5b-cfe24133ba1d"
      },
      "execution_count": 22,
      "outputs": [
        {
          "output_type": "stream",
          "name": "stderr",
          "text": [
            "<ipython-input-22-fb05c1234c8f>:1: SettingWithCopyWarning: \n",
            "A value is trying to be set on a copy of a slice from a DataFrame\n",
            "\n",
            "See the caveats in the documentation: https://pandas.pydata.org/pandas-docs/stable/user_guide/indexing.html#returning-a-view-versus-a-copy\n",
            "  df['cause_of_death'].fillna('Alive', inplace=True)\n"
          ]
        }
      ]
    },
    {
      "cell_type": "code",
      "source": [
        "df['Local'].fillna('No', inplace=True)\n",
        "df['Regional'].fillna('No', inplace=True)\n",
        "df['2nd Ca'].fillna('No', inplace=True)\n",
        "\n",
        "df = df.rename(columns = {\"2nd Ca\":\"2nd_cancer_site\"})"
      ],
      "metadata": {
        "colab": {
          "base_uri": "https://localhost:8080/"
        },
        "id": "kWjKviugNQ5r",
        "outputId": "49b4078c-a3a2-4122-cf69-a604bcc6e6f6"
      },
      "execution_count": 25,
      "outputs": [
        {
          "output_type": "stream",
          "name": "stderr",
          "text": [
            "<ipython-input-25-2c7d12baaeff>:1: SettingWithCopyWarning: \n",
            "A value is trying to be set on a copy of a slice from a DataFrame\n",
            "\n",
            "See the caveats in the documentation: https://pandas.pydata.org/pandas-docs/stable/user_guide/indexing.html#returning-a-view-versus-a-copy\n",
            "  df['Local'].fillna('No', inplace=True)\n",
            "<ipython-input-25-2c7d12baaeff>:2: SettingWithCopyWarning: \n",
            "A value is trying to be set on a copy of a slice from a DataFrame\n",
            "\n",
            "See the caveats in the documentation: https://pandas.pydata.org/pandas-docs/stable/user_guide/indexing.html#returning-a-view-versus-a-copy\n",
            "  df['Regional'].fillna('No', inplace=True)\n",
            "<ipython-input-25-2c7d12baaeff>:3: SettingWithCopyWarning: \n",
            "A value is trying to be set on a copy of a slice from a DataFrame\n",
            "\n",
            "See the caveats in the documentation: https://pandas.pydata.org/pandas-docs/stable/user_guide/indexing.html#returning-a-view-versus-a-copy\n",
            "  df['2nd Ca'].fillna('No', inplace=True)\n"
          ]
        }
      ]
    },
    {
      "cell_type": "code",
      "source": [
        "df.isnull().sum()"
      ],
      "metadata": {
        "colab": {
          "base_uri": "https://localhost:8080/"
        },
        "id": "kdFoGzWFNQ3K",
        "outputId": "7ebc9469-2282-4cf4-bc72-87b1c0b588ee"
      },
      "execution_count": 26,
      "outputs": [
        {
          "output_type": "execute_result",
          "data": {
            "text/plain": [
              "patient_id                  0\n",
              "Age                         0\n",
              "Sex                         0\n",
              "ECOG PS                     1\n",
              "annual_packs_smoked         0\n",
              "smoking_status              0\n",
              "cancer_site                 0\n",
              "cancer_subsite              0\n",
              "tumor_size                 12\n",
              "N                          13\n",
              "Stage                      27\n",
              "diagnosis_type              0\n",
              "HPV                         0\n",
              "treatment_type              0\n",
              "Chemo?                      0\n",
              "radio_therapy_startDt       0\n",
              "Dose                        0\n",
              "Fx                          0\n",
              "radio_therapy_type          0\n",
              "last_follow_up              0\n",
              "Status                      0\n",
              "Length FU                   0\n",
              "date_of_death            2287\n",
              "cause_of_death              0\n",
              "Local                       0\n",
              "Date Local               2966\n",
              "Regional                    0\n",
              "Date Regional            3156\n",
              "Distant                  2932\n",
              "Date Distant             2932\n",
              "2nd_cancer_site             0\n",
              "Date 2nd Ca              2906\n",
              "RADCURE-challenge           0\n",
              "dtype: int64"
            ]
          },
          "metadata": {},
          "execution_count": 26
        }
      ]
    },
    {
      "cell_type": "code",
      "source": [
        "# we have 3346 rows , and in few columns we hav more that 80% of the data empty\n",
        "df.drop(['Date Local','Date Regional','Distant','Date Distant','Date 2nd Ca','Chemo? ','RADCURE-challenge','date_of_death'], axis=1, inplace=True)"
      ],
      "metadata": {
        "id": "hieUjWGaKbcH"
      },
      "execution_count": 27,
      "outputs": []
    },
    {
      "cell_type": "code",
      "source": [
        "file_path = 'dtsc_data.xlsx'\n",
        "\n",
        "df.to_excel(file_path, index=False)"
      ],
      "metadata": {
        "id": "ab455zKUKbZV"
      },
      "execution_count": 28,
      "outputs": []
    },
    {
      "cell_type": "code",
      "source": [],
      "metadata": {
        "id": "xSsZHx1UGst4"
      },
      "execution_count": null,
      "outputs": []
    }
  ]
}